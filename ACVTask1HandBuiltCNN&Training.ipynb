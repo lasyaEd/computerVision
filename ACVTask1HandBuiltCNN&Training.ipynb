{
  "nbformat": 4,
  "nbformat_minor": 0,
  "metadata": {
    "colab": {
      "provenance": [],
      "authorship_tag": "ABX9TyNBmbNABcq9IL9xdHcYZ7Ea",
      "include_colab_link": true
    },
    "kernelspec": {
      "name": "python3",
      "display_name": "Python 3"
    },
    "language_info": {
      "name": "python"
    }
  },
  "cells": [
    {
      "cell_type": "markdown",
      "metadata": {
        "id": "view-in-github",
        "colab_type": "text"
      },
      "source": [
        "<a href=\"https://colab.research.google.com/github/lasyaEd/computerVision/blob/main/ACVTask1HandBuiltCNN%26Training.ipynb\" target=\"_parent\"><img src=\"https://colab.research.google.com/assets/colab-badge.svg\" alt=\"Open In Colab\"/></a>"
      ]
    },
    {
      "cell_type": "markdown",
      "source": [
        "##After manually uploading my Kaggle API Key"
      ],
      "metadata": {
        "id": "gTk58oZprjg9"
      }
    },
    {
      "cell_type": "code",
      "execution_count": null,
      "metadata": {
        "colab": {
          "base_uri": "https://localhost:8080/"
        },
        "id": "u6bJ8JrcqLV3",
        "outputId": "20edfcc4-29f1-4472-c6e8-71ec7c617ef0"
      },
      "outputs": [
        {
          "output_type": "stream",
          "name": "stdout",
          "text": [
            "Warning: Looks like you're using an outdated API Version, please consider updating (server 1.7.4.2 / client 1.6.17)\n",
            "ref                                                                    title                                               size  lastUpdated          downloadCount  voteCount  usabilityRating  \n",
            "---------------------------------------------------------------------  -------------------------------------------------  -----  -------------------  -------------  ---------  ---------------  \n",
            "atharvasoundankar/chocolate-sales                                      Chocolate Sales Data 📊🍫                             14KB  2025-03-19 03:51:40           7817        127  1.0              \n",
            "adilshamim8/student-depression-dataset                                 Student Depression Dataset                         456KB  2025-03-13 03:12:30           1449         28  1.0              \n",
            "abdulmalik1518/mobiles-dataset-2025                                    Mobiles Dataset (2025)                              20KB  2025-02-18 06:50:24          14233        253  1.0              \n",
            "atharvasoundankar/global-water-consumption-dataset-2000-2024           Global Water Consumption Dataset (2000-2024) 🌍💧     17KB  2025-03-17 04:50:38           1790         31  1.0              \n",
            "atharvasoundankar/global-energy-consumption-2000-2024                  Global Energy Consumption (2000-2024) 🔥⚡           252KB  2025-03-14 05:06:39           1431         32  1.0              \n",
            "mahmoudelhemaly/students-grading-dataset                               Student Performance & Behavior Dataset             508KB  2025-02-17 17:38:46          10364        164  1.0              \n",
            "amanrajput16/olympics-medal-list-1896-2024                             Olympic Medal List (1896-2024)                      11KB  2025-03-11 09:41:29            664         21  1.0              \n",
            "aniruddhawankhede/mental-heath-analysis-among-teenagers                Mental_Heath_Analysis_Among_Teenagers              173KB  2025-03-10 12:17:22           1669         30  1.0              \n",
            "salahuddinahmedshuvo/ecommerce-consumer-behavior-analysis-data         Ecommerce Consumer Behavior Analysis Data           43KB  2025-03-03 13:09:09           3504         49  0.9411765        \n",
            "alikalwar/heart-attack-risk-prediction-cleaned-dataset                 Heart Attack Risk Prediction Cleaned Dataset       671KB  2025-02-15 15:21:40           1300         25  1.0              \n",
            "atharvasoundankar/global-music-streaming-trends-and-listener-insights  Global Music Streaming Trends & Listener Insights   95KB  2025-03-09 05:12:00           1514         28  1.0              \n",
            "smayanj/netflix-users-database                                         Netflix Users Database                             354KB  2025-03-08 12:08:09           1738         49  1.0              \n",
            "dagloxkankwanda/startup-failures                                       Startup Failures                                    30KB  2025-03-17 14:59:32           1209         22  0.9411765        \n",
            "brsahan/genomic-data-for-cancer                                        Genomic Data for Cancer                              9KB  2025-03-16 08:44:59            428         21  1.0              \n",
            "atharvasoundankar/viral-social-media-trends-and-engagement-analysis    🚀 Viral Social Media Trends & Engagement Analysis  105KB  2025-03-10 04:51:48           2081         38  1.0              \n",
            "willianoliveiragibin/pixar-films                                       Pixar Films                                          2KB  2025-03-07 22:43:51           1188         26  1.0              \n",
            "adilshamim8/student-performance-on-an-entrance-examination             Student Performance on an Entrance Examination       4KB  2025-03-04 00:09:21           1967         45  1.0              \n",
            "atharvasoundankar/big-4-financial-risk-insights-2020-2025              Big 4 Financial Risk  Insights (2020-2025)           3KB  2025-03-07 05:02:58           1295         32  1.0              \n",
            "shantanugarg274/lung-cancer-prediction-dataset                         Lung Cancer Prediction Dataset                     127KB  2025-02-23 04:33:41           2403         45  0.9411765        \n",
            "anandshaw2001/video-game-sales                                         Video Game Sales                                   381KB  2025-02-23 05:16:04           1992         60  1.0              \n"
          ]
        }
      ],
      "source": [
        "import os\n",
        "import zipfile\n",
        "\n",
        "# Make a directory for Kaggle API key\n",
        "os.makedirs(\"/root/.kaggle\", exist_ok=True)\n",
        "\n",
        "# Move uploaded kaggle.json to the correct location\n",
        "!mv kaggle.json /root/.kaggle/\n",
        "\n",
        "# Set correct permissions\n",
        "!chmod 600 /root/.kaggle/kaggle.json\n",
        "\n",
        "# Verify Kaggle is configured correctly\n",
        "!kaggle datasets list\n"
      ]
    },
    {
      "cell_type": "markdown",
      "source": [
        "##Download & Extract Dataset"
      ],
      "metadata": {
        "id": "Fsk9YWgSrany"
      }
    },
    {
      "cell_type": "code",
      "source": [
        "# Download dataset\n",
        "!kaggle datasets download -d gti-upm/leapgestrecog\n",
        "\n",
        "# Extract the dataset\n",
        "with zipfile.ZipFile(\"leapgestrecog.zip\", \"r\") as zip_ref:\n",
        "    zip_ref.extractall(\".\")\n",
        "\n",
        "# Check extracted files\n",
        "!ls leapGestRecog\n"
      ],
      "metadata": {
        "colab": {
          "base_uri": "https://localhost:8080/"
        },
        "id": "vhvBIPR1q64y",
        "outputId": "b21f9f71-f4e6-4f09-f8d1-479ae56131c0"
      },
      "execution_count": null,
      "outputs": [
        {
          "output_type": "stream",
          "name": "stdout",
          "text": [
            "Warning: Looks like you're using an outdated API Version, please consider updating (server 1.7.4.2 / client 1.6.17)\n",
            "Dataset URL: https://www.kaggle.com/datasets/gti-upm/leapgestrecog\n",
            "License(s): CC-BY-NC-SA-4.0\n",
            "Downloading leapgestrecog.zip to /content\n",
            "100% 2.12G/2.13G [00:20<00:00, 128MB/s]\n",
            "100% 2.13G/2.13G [00:20<00:00, 113MB/s]\n",
            "00  01\t02  03\t04  05\t06  07\t08  09\n"
          ]
        }
      ]
    },
    {
      "cell_type": "markdown",
      "source": [
        "##Keep Only Numbered Directories (Remove Unnecessary Files)"
      ],
      "metadata": {
        "id": "fjxbM9BIryau"
      }
    },
    {
      "cell_type": "code",
      "source": [
        "import shutil\n",
        "\n",
        "# Remove unnecessary duplicate folder if it exists\n",
        "if os.path.exists(\"leapGestRecog/leapGestRecog\"):\n",
        "    shutil.rmtree(\"leapGestRecog/leapGestRecog\")\n",
        "\n",
        "# List the required directories (should be numbers 0-9)\n",
        "print(\"Remaining folders inside leapGestRecog:\")\n",
        "print(os.listdir(\"leapGestRecog\"))\n"
      ],
      "metadata": {
        "colab": {
          "base_uri": "https://localhost:8080/"
        },
        "id": "LGioNNYcrNZe",
        "outputId": "c7a6f2db-ec13-465a-d843-b87b4997acaf"
      },
      "execution_count": null,
      "outputs": [
        {
          "output_type": "stream",
          "name": "stdout",
          "text": [
            "Remaining folders inside leapGestRecog:\n",
            "['01', '08', '09', '04', '03', '00', '05', '07', '02', '06']\n"
          ]
        }
      ]
    },
    {
      "cell_type": "markdown",
      "source": [
        "##Import required Libraries"
      ],
      "metadata": {
        "id": "5MyRRflJsImT"
      }
    },
    {
      "cell_type": "code",
      "source": [
        "import torch\n",
        "from torch.utils.data import Dataset, DataLoader\n",
        "import torchvision.transforms as transforms\n",
        "import cv2\n",
        "import os\n",
        "from glob import glob\n",
        "from PIL import Image\n",
        "import matplotlib.pyplot as plt"
      ],
      "metadata": {
        "id": "5ADqHBtlr0TT"
      },
      "execution_count": null,
      "outputs": []
    },
    {
      "cell_type": "markdown",
      "source": [
        "##Define the HandGestureDataset Class"
      ],
      "metadata": {
        "id": "ihpgohbXsPO3"
      }
    },
    {
      "cell_type": "code",
      "source": [
        "class HandGestureDataset(Dataset):\n",
        "    def __init__(self, root_dir, transform=None):\n",
        "        self.root_dir = root_dir\n",
        "        self.transform = transform\n",
        "        self.image_paths = []\n",
        "        self.labels = []\n",
        "\n",
        "        # Get numbered directories (00, 01, ..., 09)\n",
        "        for folder in sorted(os.listdir(root_dir)):\n",
        "            folder_path = os.path.join(root_dir, folder)\n",
        "\n",
        "            if os.path.isdir(folder_path):  # Ensure it's a directory\n",
        "                for gesture_folder in os.listdir(folder_path):\n",
        "                    gesture_path = os.path.join(folder_path, gesture_folder)\n",
        "                    if os.path.isdir(gesture_path):\n",
        "                        image_files = glob(os.path.join(gesture_path, \"*.png\"))\n",
        "\n",
        "                        # Store images & corresponding labels\n",
        "                        self.image_paths.extend(image_files)\n",
        "                        self.labels.extend([int(folder)] * len(image_files))  # Assign label\n",
        "\n",
        "    def __len__(self):\n",
        "        return len(self.image_paths)\n",
        "\n",
        "    def __getitem__(self, idx):\n",
        "        img_path = self.image_paths[idx]\n",
        "        label = self.labels[idx]\n",
        "\n",
        "        # Load image in grayscale mode\n",
        "        image = Image.open(img_path).convert(\"L\")\n",
        "\n",
        "        if self.transform:\n",
        "            image = self.transform(image)\n",
        "\n",
        "        return image, label"
      ],
      "metadata": {
        "id": "8-x9XV2-sMkM"
      },
      "execution_count": null,
      "outputs": []
    },
    {
      "cell_type": "markdown",
      "source": [
        "##Define Image Transformations"
      ],
      "metadata": {
        "id": "v4-9P2mgsxv8"
      }
    },
    {
      "cell_type": "code",
      "source": [
        "image_transforms = transforms.Compose([\n",
        "    transforms.Resize((128, 128)),  # Resize all images\n",
        "    transforms.ToTensor(),  # Convert to PyTorch tensor\n",
        "    transforms.Normalize((0.5,), (0.5,))  # Normalize grayscale image\n",
        "])"
      ],
      "metadata": {
        "id": "atnYS7arsuad"
      },
      "execution_count": null,
      "outputs": []
    },
    {
      "cell_type": "markdown",
      "source": [
        "##Create Dataset & DataLoader Instances"
      ],
      "metadata": {
        "id": "Rod_Ro3bszP9"
      }
    },
    {
      "cell_type": "code",
      "source": [
        "# Define dataset path\n",
        "dataset_path = \"/content/leapGestRecog\"  # Adjusted to match Colab directory\n",
        "\n",
        "# Create dataset instance\n",
        "gesture_dataset = HandGestureDataset(root_dir=dataset_path, transform=image_transforms)\n",
        "\n",
        "# Create DataLoader for batching\n",
        "gesture_loader = DataLoader(gesture_dataset, batch_size=32, shuffle=True)\n",
        "\n",
        "# Print dataset size\n",
        "print(f\"Total dataset size: {len(gesture_dataset)} images\")"
      ],
      "metadata": {
        "colab": {
          "base_uri": "https://localhost:8080/"
        },
        "id": "mh_0cMLRs2do",
        "outputId": "ad65d7ff-cd7a-4e04-8b02-4be3e2e38efe"
      },
      "execution_count": null,
      "outputs": [
        {
          "output_type": "stream",
          "name": "stdout",
          "text": [
            "Total dataset size: 20000 images\n"
          ]
        }
      ]
    },
    {
      "cell_type": "markdown",
      "source": [
        "##Modify Dataset Class for Splitting"
      ],
      "metadata": {
        "id": "QptgIceYt05L"
      }
    },
    {
      "cell_type": "code",
      "source": [
        "from sklearn.model_selection import train_test_split\n",
        "\n",
        "class HandGestureDataset(Dataset):\n",
        "    def __init__(self, image_paths, labels, transform=None):\n",
        "        self.image_paths = image_paths\n",
        "        self.labels = labels\n",
        "        self.transform = transform\n",
        "\n",
        "    def __len__(self):\n",
        "        return len(self.image_paths)\n",
        "\n",
        "    def __getitem__(self, idx):\n",
        "        img_path = self.image_paths[idx]\n",
        "        label = self.labels[idx]\n",
        "\n",
        "        # Load image in grayscale mode\n",
        "        image = Image.open(img_path).convert(\"L\")\n",
        "\n",
        "        if self.transform:\n",
        "            image = self.transform(image)\n",
        "\n",
        "        return image, label"
      ],
      "metadata": {
        "id": "FC43Sji1tv_P"
      },
      "execution_count": null,
      "outputs": []
    },
    {
      "cell_type": "markdown",
      "source": [
        "##Split Dataset into Train & Test Sets"
      ],
      "metadata": {
        "id": "2oQ0ypyFt-xq"
      }
    },
    {
      "cell_type": "code",
      "source": [
        "# Get all image paths and labels\n",
        "all_image_paths = gesture_dataset.image_paths\n",
        "all_labels = gesture_dataset.labels\n",
        "\n",
        "# Split into Train (80%) and Test (20%) sets\n",
        "train_paths, test_paths, train_labels, test_labels = train_test_split(\n",
        "    all_image_paths, all_labels, test_size=0.2, random_state=42, stratify=all_labels\n",
        ")\n",
        "\n",
        "# Create Train & Test Dataset instances\n",
        "train_dataset = HandGestureDataset(train_paths, train_labels, transform=image_transforms)\n",
        "test_dataset = HandGestureDataset(test_paths, test_labels, transform=image_transforms)\n",
        "\n",
        "# Create DataLoaders for batch processing\n",
        "train_loader = DataLoader(train_dataset, batch_size=32, shuffle=True)\n",
        "test_loader = DataLoader(test_dataset, batch_size=32, shuffle=False)\n",
        "\n",
        "# Print dataset sizes\n",
        "print(f\"Train Dataset Size: {len(train_dataset)} images\")\n",
        "print(f\"Test Dataset Size: {len(test_dataset)} images\")"
      ],
      "metadata": {
        "colab": {
          "base_uri": "https://localhost:8080/"
        },
        "id": "VbgoV4emt7hj",
        "outputId": "1d9d2800-b153-4946-eedc-a9efe1bac6ee"
      },
      "execution_count": null,
      "outputs": [
        {
          "output_type": "stream",
          "name": "stdout",
          "text": [
            "Train Dataset Size: 16000 images\n",
            "Test Dataset Size: 4000 images\n"
          ]
        }
      ]
    },
    {
      "cell_type": "markdown",
      "source": [
        "##Print a Few Images and Associated Labels\n",
        "\n",
        "###Load a Batch of Images from the Train Set"
      ],
      "metadata": {
        "id": "rw7oSex2uFlb"
      }
    },
    {
      "cell_type": "code",
      "source": [
        "# Get a batch of images and labels from the train DataLoader\n",
        "data_iter = iter(train_loader)\n",
        "images, labels = next(data_iter)  # Fetch first batch\n"
      ],
      "metadata": {
        "id": "uWumZz8vuGgc"
      },
      "execution_count": null,
      "outputs": []
    },
    {
      "cell_type": "markdown",
      "source": [
        "###Display Images with Labels"
      ],
      "metadata": {
        "id": "qsbNZ7FBuSiX"
      }
    },
    {
      "cell_type": "code",
      "source": [
        "import matplotlib.pyplot as plt\n",
        "\n",
        "# Function to display a batch of images\n",
        "def show_images(images, labels, num_images=8):\n",
        "    fig, axes = plt.subplots(1, num_images, figsize=(15, 3))\n",
        "\n",
        "    for i in range(num_images):\n",
        "        img = images[i].squeeze(0).numpy()  # Remove channel dimension (Grayscale)\n",
        "        label = labels[i].item()  # Convert tensor to int\n",
        "\n",
        "        axes[i].imshow(img, cmap=\"gray\")\n",
        "        axes[i].set_title(f\"Label: {label}\")\n",
        "        axes[i].axis(\"off\")\n",
        "\n",
        "    plt.show()\n",
        "\n",
        "# Show sample images\n",
        "show_images(images, labels)\n"
      ],
      "metadata": {
        "colab": {
          "base_uri": "https://localhost:8080/",
          "height": 160
        },
        "id": "igy-NAkEuMNi",
        "outputId": "067e4100-afc6-497f-ef2e-1b8c7a362be6"
      },
      "execution_count": null,
      "outputs": [
        {
          "output_type": "display_data",
          "data": {
            "text/plain": [
              "<Figure size 1500x300 with 8 Axes>"
            ],
            "image/png": "[encoded data removed]"
          },
          "metadata": {}
        }
      ]
    },
    {
      "cell_type": "code",
      "source": [
        "import torch\n",
        "import torch.nn as nn\n",
        "import torch.optim as optim\n",
        "import torch.nn.functional as F\n",
        "from torchsummary import summary"
      ],
      "metadata": {
        "id": "8PlMQfpivYTj"
      },
      "execution_count": null,
      "outputs": []
    },
    {
      "cell_type": "markdown",
      "source": [
        "##VGG-style CNN"
      ],
      "metadata": {
        "id": "mtTBdCbfvp0V"
      }
    },
    {
      "cell_type": "code",
      "source": [
        "class HandGestureCNN(nn.Module):\n",
        "    def __init__(self, num_classes=10):\n",
        "        super(HandGestureCNN, self).__init__()\n",
        "\n",
        "        # Feature extraction layers\n",
        "        self.conv1 = nn.Conv2d(1, 32, kernel_size=3, padding=1)\n",
        "        self.conv2 = nn.Conv2d(32, 64, kernel_size=3, padding=1)\n",
        "        self.conv3 = nn.Conv2d(64, 128, kernel_size=3, padding=1)\n",
        "\n",
        "        self.pool = nn.MaxPool2d(2, 2)\n",
        "        self.batchnorm1 = nn.BatchNorm2d(32)\n",
        "        self.batchnorm2 = nn.BatchNorm2d(64)\n",
        "        self.batchnorm3 = nn.BatchNorm2d(128)\n",
        "\n",
        "        self.dropout = nn.Dropout(0.3)  # Dropout to prevent overfitting\n",
        "\n",
        "        # Fully connected layers\n",
        "        self.fc1 = nn.Linear(128 * 16 * 16, 256)\n",
        "        self.fc2 = nn.Linear(256, num_classes)\n",
        "\n",
        "    def forward(self, x):\n",
        "        x = self.pool(F.relu(self.batchnorm1(self.conv1(x))))\n",
        "        x = self.pool(F.relu(self.batchnorm2(self.conv2(x))))\n",
        "        x = self.pool(F.relu(self.batchnorm3(self.conv3(x))))\n",
        "\n",
        "        x = torch.flatten(x, 1)  # Flatten before fully connected layers\n",
        "        x = F.relu(self.fc1(x))\n",
        "        x = self.dropout(x)\n",
        "        x = self.fc2(x)\n",
        "        return x"
      ],
      "metadata": {
        "id": "rWlW19dbvgRW"
      },
      "execution_count": null,
      "outputs": []
    },
    {
      "cell_type": "markdown",
      "source": [
        "###Instantiate and Summarize the Model"
      ],
      "metadata": {
        "id": "IJXzT6mOvuxU"
      }
    },
    {
      "cell_type": "code",
      "source": [
        "# Check if GPU is available\n",
        "device = torch.device(\"cuda\" if torch.cuda.is_available() else \"cpu\")\n",
        "\n",
        "# Instantiate model and move to GPU if available\n",
        "model = HandGestureCNN(num_classes=10).to(device)\n",
        "\n",
        "# Print model summary\n",
        "summary(model, (1, 128, 128))"
      ],
      "metadata": {
        "colab": {
          "base_uri": "https://localhost:8080/"
        },
        "id": "AIDV0wMfvkAi",
        "outputId": "9d2b5fdd-961e-47d3-9a9b-37f2c35db737"
      },
      "execution_count": null,
      "outputs": [
        {
          "output_type": "stream",
          "name": "stdout",
          "text": [
            "----------------------------------------------------------------\n",
            "        Layer (type)               Output Shape         Param #\n",
            "================================================================\n",
            "            Conv2d-1         [-1, 32, 128, 128]             320\n",
            "       BatchNorm2d-2         [-1, 32, 128, 128]              64\n",
            "         MaxPool2d-3           [-1, 32, 64, 64]               0\n",
            "            Conv2d-4           [-1, 64, 64, 64]          18,496\n",
            "       BatchNorm2d-5           [-1, 64, 64, 64]             128\n",
            "         MaxPool2d-6           [-1, 64, 32, 32]               0\n",
            "            Conv2d-7          [-1, 128, 32, 32]          73,856\n",
            "       BatchNorm2d-8          [-1, 128, 32, 32]             256\n",
            "         MaxPool2d-9          [-1, 128, 16, 16]               0\n",
            "           Linear-10                  [-1, 256]       8,388,864\n",
            "          Dropout-11                  [-1, 256]               0\n",
            "           Linear-12                   [-1, 10]           2,570\n",
            "================================================================\n",
            "Total params: 8,484,554\n",
            "Trainable params: 8,484,554\n",
            "Non-trainable params: 0\n",
            "----------------------------------------------------------------\n",
            "Input size (MB): 0.06\n",
            "Forward/backward pass size (MB): 15.75\n",
            "Params size (MB): 32.37\n",
            "Estimated Total Size (MB): 48.18\n",
            "----------------------------------------------------------------\n"
          ]
        }
      ]
    },
    {
      "cell_type": "markdown",
      "source": [
        "**Where to Apply Dropout?**\n",
        "\n",
        "We applied Dropout (0.3) before the last fully connected layer because:\n",
        "\n",
        "Dropout in Convolutional Layers is uncommon since spatial feature learning is crucial.\n",
        "FC layers have more parameters, so Dropout reduces overfitting.\n",
        "0.3 probability was chosen to balance regularization without losing too much information.\n",
        "\n",
        "**Did We Use Other Model Enhancements?**\n",
        "\n",
        "Yes! We applied:\n",
        "\n",
        "Batch Normalization: Normalizes activations to stabilize training.\n",
        "Max Pooling: Reduces feature map size, making the model efficient.\n",
        "\n",
        "**How Did We Design the Classification Layer?**\n",
        "\n",
        "Flattened the feature maps from Conv layers.\n",
        "Fully connected layers (fc1 and fc2) process the feature vector.\n",
        "Softmax is applied implicitly in CrossEntropyLoss, so we don’t need it in forward()."
      ],
      "metadata": {
        "id": "nwq72ogWv701"
      }
    },
    {
      "cell_type": "code",
      "source": [
        "import time\n",
        "\n",
        "# Define training function\n",
        "def train_model(model, train_loader, val_loader, criterion, optimizer, scheduler, num_epochs=15):\n",
        "    device = torch.device(\"cuda\" if torch.cuda.is_available() else \"cpu\")\n",
        "    model.to(device)\n",
        "\n",
        "    best_val_loss = float(\"inf\")\n",
        "\n",
        "    history = {\"train_loss\": [], \"val_loss\": [], \"train_acc\": [], \"val_acc\": []}\n",
        "\n",
        "    for epoch in range(num_epochs):\n",
        "        start_time = time.time()\n",
        "\n",
        "        # Training Phase\n",
        "        model.train()\n",
        "        train_loss = 0.0\n",
        "        correct_train = 0\n",
        "        total_train = 0\n",
        "\n",
        "        for images, labels in train_loader:\n",
        "            images, labels = images.to(device), labels.to(device)\n",
        "\n",
        "            optimizer.zero_grad()\n",
        "            outputs = model(images)\n",
        "            loss = criterion(outputs, labels)\n",
        "            loss.backward()\n",
        "            optimizer.step()\n",
        "\n",
        "            train_loss += loss.item()\n",
        "            _, preds = torch.max(outputs, 1)\n",
        "            correct_train += (preds == labels).sum().item()\n",
        "            total_train += labels.size(0)\n",
        "\n",
        "        train_accuracy = correct_train / total_train\n",
        "        history[\"train_loss\"].append(train_loss / len(train_loader))\n",
        "        history[\"train_acc\"].append(train_accuracy)\n",
        "\n",
        "        # Validation Phase\n",
        "        model.eval()\n",
        "        val_loss = 0.0\n",
        "        correct_val = 0\n",
        "        total_val = 0\n",
        "\n",
        "        with torch.no_grad():\n",
        "            for images, labels in val_loader:\n",
        "                images, labels = images.to(device), labels.to(device)\n",
        "                outputs = model(images)\n",
        "                loss = criterion(outputs, labels)\n",
        "\n",
        "                val_loss += loss.item()\n",
        "                _, preds = torch.max(outputs, 1)\n",
        "                correct_val += (preds == labels).sum().item()\n",
        "                total_val += labels.size(0)\n",
        "\n",
        "        val_accuracy = correct_val / total_val\n",
        "        history[\"val_loss\"].append(val_loss / len(val_loader))\n",
        "        history[\"val_acc\"].append(val_accuracy)\n",
        "\n",
        "        # Adjust learning rate\n",
        "        scheduler.step(val_loss)\n",
        "\n",
        "        # Print progress\n",
        "        end_time = time.time()\n",
        "        print(f\"Epoch [{epoch+1}/{num_epochs}] - \"\n",
        "              f\"Train Loss: {train_loss / len(train_loader):.4f} | Train Acc: {train_accuracy:.4f} | \"\n",
        "              f\"Val Loss: {val_loss / len(val_loader):.4f} | Val Acc: {val_accuracy:.4f} \"\n",
        "              f\"Time: {end_time - start_time:.2f}s\")\n",
        "\n",
        "        # Save best model\n",
        "        if val_loss < best_val_loss:\n",
        "            best_val_loss = val_loss\n",
        "            torch.save(model.state_dict(), \"best_gesture_model.pth\")\n",
        "\n",
        "    return history\n"
      ],
      "metadata": {
        "id": "-TymHq2gv9Wn"
      },
      "execution_count": null,
      "outputs": []
    },
    {
      "cell_type": "code",
      "source": [
        "from sklearn.metrics import confusion_matrix, classification_report\n",
        "import seaborn as sns\n",
        "import numpy as np\n",
        "\n",
        "# Evaluation function\n",
        "def evaluate_model(model, test_loader):\n",
        "    device = torch.device(\"cuda\" if torch.cuda.is_available() else \"cpu\")\n",
        "    model.to(device)\n",
        "    model.eval()\n",
        "\n",
        "    all_preds = []\n",
        "    all_labels = []\n",
        "\n",
        "    with torch.no_grad():\n",
        "        for images, labels in test_loader:\n",
        "            images, labels = images.to(device), labels.to(device)\n",
        "            outputs = model(images)\n",
        "            _, preds = torch.max(outputs, 1)\n",
        "\n",
        "            all_preds.extend(preds.cpu().numpy())\n",
        "            all_labels.extend(labels.cpu().numpy())\n",
        "\n",
        "    # Compute metrics\n",
        "    cm = confusion_matrix(all_labels, all_preds)\n",
        "    print(\"Classification Report:\\n\", classification_report(all_labels, all_preds))\n",
        "\n",
        "    # Plot confusion matrix\n",
        "    plt.figure(figsize=(8, 6))\n",
        "    sns.heatmap(cm, annot=True, fmt=\"d\", cmap=\"Blues\", xticklabels=range(10), yticklabels=range(10))\n",
        "    plt.xlabel(\"Predicted Label\")\n",
        "    plt.ylabel(\"True Label\")\n",
        "    plt.title(\"Confusion Matrix\")\n",
        "    plt.show()\n"
      ],
      "metadata": {
        "id": "XUAXdBruygBU"
      },
      "execution_count": null,
      "outputs": []
    },
    {
      "cell_type": "code",
      "source": [
        "history = train_model(model, train_loader, test_loader, criterion, optimizer, scheduler, num_epochs=15)\n",
        "\n",
        "# Plot training history\n",
        "plot_training_history(history)\n"
      ],
      "metadata": {
        "colab": {
          "base_uri": "https://localhost:8080/",
          "height": 198
        },
        "id": "dQNiJluXyxPy",
        "outputId": "e4db44be-a68b-4667-8cec-cc0e97f17588"
      },
      "execution_count": null,
      "outputs": [
        {
          "output_type": "error",
          "ename": "NameError",
          "evalue": "name 'criterion' is not defined",
          "traceback": [
            "\u001b[0;31m---------------------------------------------------------------------------\u001b[0m",
            "\u001b[0;31mNameError\u001b[0m                                 Traceback (most recent call last)",
            "\u001b[0;32m<ipython-input-22-e8b4a24cf990>\u001b[0m in \u001b[0;36m<cell line: 0>\u001b[0;34m()\u001b[0m\n\u001b[0;32m----> 1\u001b[0;31m \u001b[0mhistory\u001b[0m \u001b[0;34m=\u001b[0m \u001b[0mtrain_model\u001b[0m\u001b[0;34m(\u001b[0m\u001b[0mmodel\u001b[0m\u001b[0;34m,\u001b[0m \u001b[0mtrain_loader\u001b[0m\u001b[0;34m,\u001b[0m \u001b[0mtest_loader\u001b[0m\u001b[0;34m,\u001b[0m \u001b[0mcriterion\u001b[0m\u001b[0;34m,\u001b[0m \u001b[0moptimizer\u001b[0m\u001b[0;34m,\u001b[0m \u001b[0mscheduler\u001b[0m\u001b[0;34m,\u001b[0m \u001b[0mnum_epochs\u001b[0m\u001b[0;34m=\u001b[0m\u001b[0;36m15\u001b[0m\u001b[0;34m)\u001b[0m\u001b[0;34m\u001b[0m\u001b[0;34m\u001b[0m\u001b[0m\n\u001b[0m\u001b[1;32m      2\u001b[0m \u001b[0;34m\u001b[0m\u001b[0m\n\u001b[1;32m      3\u001b[0m \u001b[0;31m# Plot training history\u001b[0m\u001b[0;34m\u001b[0m\u001b[0;34m\u001b[0m\u001b[0m\n\u001b[1;32m      4\u001b[0m \u001b[0mplot_training_history\u001b[0m\u001b[0;34m(\u001b[0m\u001b[0mhistory\u001b[0m\u001b[0;34m)\u001b[0m\u001b[0;34m\u001b[0m\u001b[0;34m\u001b[0m\u001b[0m\n",
            "\u001b[0;31mNameError\u001b[0m: name 'criterion' is not defined"
          ]
        }
      ]
    },
    {
      "cell_type": "code",
      "source": [
        "evaluate_model(model, test_loader)"
      ],
      "metadata": {
        "id": "OGnhYGF4y1Jw"
      },
      "execution_count": null,
      "outputs": []
    },
    {
      "cell_type": "code",
      "source": [
        "import matplotlib.pyplot as plt\n",
        "\n",
        "def plot_training_history(history):\n",
        "    epochs = range(1, len(history[\"train_loss\"]) + 1)\n",
        "\n",
        "    # Plot Loss\n",
        "    plt.figure(figsize=(12, 5))\n",
        "    plt.subplot(1, 2, 1)\n",
        "    plt.plot(epochs, history[\"train_loss\"], label=\"Train Loss\")\n",
        "    plt.plot(epochs, history[\"val_loss\"], label=\"Val Loss\")\n",
        "    plt.xlabel(\"Epochs\")\n",
        "    plt.ylabel(\"Loss\")\n",
        "    plt.legend()\n",
        "    plt.title(\"Training & Validation Loss\")\n",
        "\n",
        "    # Plot Accuracy\n",
        "    plt.subplot(1, 2, 2)\n",
        "    plt.plot(epochs, history[\"train_acc\"], label=\"Train Acc\")\n",
        "    plt.plot(epochs, history[\"val_acc\"], label=\"Val Acc\")\n",
        "    plt.xlabel(\"Epochs\")\n",
        "    plt.ylabel(\"Accuracy\")\n",
        "    plt.legend()\n",
        "    plt.title(\"Training & Validation Accuracy\")\n",
        "\n",
        "    plt.show()\n"
      ],
      "metadata": {
        "id": "_X7KQT3GykFk"
      },
      "execution_count": null,
      "outputs": []
    }
  ]
}